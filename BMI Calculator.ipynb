{
 "cells": [
  {
   "cell_type": "markdown",
   "id": "18408814",
   "metadata": {},
   "source": [
    "## BMI Calculator\n"
   ]
  },
  {
   "cell_type": "code",
   "execution_count": 12,
   "id": "f9f5315e",
   "metadata": {},
   "outputs": [
    {
     "name": "stdout",
     "output_type": "stream",
     "text": [
      "Enter your name please!Bk\n",
      "Enter your weight in kilograms42\n",
      "Enter your height in meters1.43\n",
      "20.53890165778278\n",
      "Bk,you are normal weight.\n"
     ]
    }
   ],
   "source": [
    "name = input(\"Enter your name please!\")\n",
    "\n",
    "weight = int(input(\"Enter your weight in kilograms\"))\n",
    "\n",
    "height = float(input(\"Enter your height in meters\"))\n",
    "\n",
    "BMI = (weight) / (height * height )\n",
    "\n",
    "\n",
    "print(BMI)\n",
    "\n",
    "if BMI>0:\n",
    "    if( BMI<18.5):\n",
    "        print(name + \",you are underweight.\")\n",
    "    elif (BMI<24.9) :\n",
    "         print(name + \",you are normal weight.\")\n",
    "    elif (BMI<29.9) :\n",
    "        print(name + \",you are overweight. You need to exercise more and stop sitting.\")\n",
    "    elif (BMI<34.9) :\n",
    "        print(name + \",you are obese.\")\n",
    "    elif (BMI<39.9) :\n",
    "        print(name + \" ,you are severely obese.\")\n",
    "    else:\n",
    "        print(name + \",you`re morbidly obese.\")\n",
    "else :\n",
    "    print(\"Enter valid format\")"
   ]
  },
  {
   "cell_type": "code",
   "execution_count": null,
   "id": "1680e6f2",
   "metadata": {},
   "outputs": [],
   "source": [
    "#BMI = (weight * 703 in pounds ) / (height in feets * height in inches )"
   ]
  }
 ],
 "metadata": {
  "kernelspec": {
   "display_name": "Python 3 (ipykernel)",
   "language": "python",
   "name": "python3"
  },
  "language_info": {
   "codemirror_mode": {
    "name": "ipython",
    "version": 3
   },
   "file_extension": ".py",
   "mimetype": "text/x-python",
   "name": "python",
   "nbconvert_exporter": "python",
   "pygments_lexer": "ipython3",
   "version": "3.9.7"
  }
 },
 "nbformat": 4,
 "nbformat_minor": 5
}
